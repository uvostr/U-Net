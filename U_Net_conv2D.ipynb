{
 "cells": [
  {
   "cell_type": "code",
   "execution_count": null,
   "metadata": {
    "id": "pdmvAWou5asD"
   },
   "outputs": [],
   "source": [
    "import speedup\n",
    "import tensorflow as tf\n",
    "import numpy as np\n",
    "import tensorflow as tf\n",
    "import random\n",
    "random.seed(0)\n",
    "np.random.seed(0)\n",
    "tf.random.set_seed(0)"
   ]
  },
  {
   "cell_type": "code",
   "execution_count": null,
   "metadata": {
    "id": "cBwqhTuHTY4v"
   },
   "outputs": [],
   "source": [
    "def double_conv_block(x, n_filters):\n",
    "   x = tf.keras.layers.Conv2D(n_filters, (3, 3), activation = \"relu\", kernel_initializer = \"he_normal\", padding=\"same\")(x)\n",
    "   x = tf.keras.layers.Conv2D(n_filters, (3, 3), activation = \"relu\", kernel_initializer = \"he_normal\", padding=\"same\")(x)\n",
    "   return x"
   ]
  },
  {
   "cell_type": "code",
   "execution_count": null,
   "metadata": {
    "id": "xF3OppL0UcFp"
   },
   "outputs": [],
   "source": [
    "def downsample_block(x, n_filters):\n",
    "   f = double_conv_block(x, n_filters)\n",
    "   p = tf.keras.layers.MaxPool2D((2, 2))(f)\n",
    "   return f, p"
   ]
  },
  {
   "cell_type": "code",
   "execution_count": null,
   "metadata": {
    "id": "BN_5xuYkUm2E"
   },
   "outputs": [],
   "source": [
    "def upsample_block(x, conv_features, n_filters):\n",
    "   x = tf.keras.layers.Conv2DTranspose(n_filters, (3, 3), (2,2), padding=\"same\")(x)\n",
    "   x = tf.keras.layers.concatenate([x, conv_features])\n",
    "   x = double_conv_block(x, n_filters)\n",
    "   return x"
   ]
  },
  {
   "cell_type": "code",
   "execution_count": null,
   "metadata": {
    "id": "awNeMTdAUEYo"
   },
   "outputs": [],
   "source": [
    "imageSize = 512\n",
    "m = 3\n",
    "min_w = 0.1\n",
    "max_w = 0.5\n",
    "\n",
    "def constructModel():\n",
    "    inputs = tf.keras.Input(shape=(imageSize, imageSize, m))\n",
    "    f1, p1 = downsample_block(inputs, 64)\n",
    "    f2, p2 = downsample_block(p1, 128)\n",
    "    f3, p3 = downsample_block(p2, 256)\n",
    "    f4, p4 = downsample_block(p3, 512)\n",
    "    \n",
    "\n",
    "    bottleneck = double_conv_block(p4, 1024)\n",
    "\n",
    "    u6 = upsample_block(bottleneck, f4, 512)\n",
    "    u7 = upsample_block(u6, f3, 256)\n",
    "    u8 = upsample_block(u7, f2, 128)\n",
    "    u9 = upsample_block(u8, f1, 64)\n",
    "    outputs = tf.keras.layers.Conv2D(3, (1, 1), activation = \"softmax\")(u9)\n",
    "\n",
    "    return tf.keras.Model(inputs, outputs, name=\"U-Net\")"
   ]
  },
  {
   "cell_type": "code",
   "execution_count": null,
   "metadata": {
    "colab": {
     "base_uri": "https://localhost:8080/"
    },
    "id": "60YjGqDZX_Rq",
    "outputId": "a0250320-ffe7-4d34-935a-4364e6427966"
   },
   "outputs": [
    {
     "name": "stdout",
     "output_type": "stream",
     "text": [
      "Model: \"U-Net\"\n",
      "__________________________________________________________________________________________________\n",
      " Layer (type)                   Output Shape         Param #     Connected to                     \n",
      "==================================================================================================\n",
      " input_1 (InputLayer)           [(None, 512, 512, 3  0           []                               \n",
      "                                )]                                                                \n",
      "                                                                                                  \n",
      " conv2d (Conv2D)                (None, 512, 512, 64  1792        ['input_1[0][0]']                \n",
      "                                )                                                                 \n",
      "                                                                                                  \n",
      " conv2d_1 (Conv2D)              (None, 512, 512, 64  36928       ['conv2d[0][0]']                 \n",
      "                                )                                                                 \n",
      "                                                                                                  \n",
      " max_pooling2d (MaxPooling2D)   (None, 256, 256, 64  0           ['conv2d_1[0][0]']               \n",
      "                                )                                                                 \n",
      "                                                                                                  \n",
      " conv2d_2 (Conv2D)              (None, 256, 256, 12  73856       ['max_pooling2d[0][0]']          \n",
      "                                8)                                                                \n",
      "                                                                                                  \n",
      " conv2d_3 (Conv2D)              (None, 256, 256, 12  147584      ['conv2d_2[0][0]']               \n",
      "                                8)                                                                \n",
      "                                                                                                  \n",
      " max_pooling2d_1 (MaxPooling2D)  (None, 128, 128, 12  0          ['conv2d_3[0][0]']               \n",
      "                                8)                                                                \n",
      "                                                                                                  \n",
      " conv2d_4 (Conv2D)              (None, 128, 128, 25  295168      ['max_pooling2d_1[0][0]']        \n",
      "                                6)                                                                \n",
      "                                                                                                  \n",
      " conv2d_5 (Conv2D)              (None, 128, 128, 25  590080      ['conv2d_4[0][0]']               \n",
      "                                6)                                                                \n",
      "                                                                                                  \n",
      " max_pooling2d_2 (MaxPooling2D)  (None, 64, 64, 256)  0          ['conv2d_5[0][0]']               \n",
      "                                                                                                  \n",
      " conv2d_6 (Conv2D)              (None, 64, 64, 512)  1180160     ['max_pooling2d_2[0][0]']        \n",
      "                                                                                                  \n",
      " conv2d_7 (Conv2D)              (None, 64, 64, 512)  2359808     ['conv2d_6[0][0]']               \n",
      "                                                                                                  \n",
      " max_pooling2d_3 (MaxPooling2D)  (None, 32, 32, 512)  0          ['conv2d_7[0][0]']               \n",
      "                                                                                                  \n",
      " conv2d_8 (Conv2D)              (None, 32, 32, 1024  4719616     ['max_pooling2d_3[0][0]']        \n",
      "                                )                                                                 \n",
      "                                                                                                  \n",
      " conv2d_9 (Conv2D)              (None, 32, 32, 1024  9438208     ['conv2d_8[0][0]']               \n",
      "                                )                                                                 \n",
      "                                                                                                  \n",
      " conv2d_transpose (Conv2DTransp  (None, 64, 64, 512)  4719104    ['conv2d_9[0][0]']               \n",
      " ose)                                                                                             \n",
      "                                                                                                  \n",
      " concatenate (Concatenate)      (None, 64, 64, 1024  0           ['conv2d_transpose[0][0]',       \n",
      "                                )                                 'conv2d_7[0][0]']               \n",
      "                                                                                                  \n",
      " conv2d_10 (Conv2D)             (None, 64, 64, 512)  4719104     ['concatenate[0][0]']            \n",
      "                                                                                                  \n",
      " conv2d_11 (Conv2D)             (None, 64, 64, 512)  2359808     ['conv2d_10[0][0]']              \n",
      "                                                                                                  \n",
      " conv2d_transpose_1 (Conv2DTran  (None, 128, 128, 25  1179904    ['conv2d_11[0][0]']              \n",
      " spose)                         6)                                                                \n",
      "                                                                                                  \n",
      " concatenate_1 (Concatenate)    (None, 128, 128, 51  0           ['conv2d_transpose_1[0][0]',     \n",
      "                                2)                                'conv2d_5[0][0]']               \n",
      "                                                                                                  \n",
      " conv2d_12 (Conv2D)             (None, 128, 128, 25  1179904     ['concatenate_1[0][0]']          \n",
      "                                6)                                                                \n",
      "                                                                                                  \n",
      " conv2d_13 (Conv2D)             (None, 128, 128, 25  590080      ['conv2d_12[0][0]']              \n",
      "                                6)                                                                \n",
      "                                                                                                  \n",
      " conv2d_transpose_2 (Conv2DTran  (None, 256, 256, 12  295040     ['conv2d_13[0][0]']              \n",
      " spose)                         8)                                                                \n",
      "                                                                                                  \n",
      " concatenate_2 (Concatenate)    (None, 256, 256, 25  0           ['conv2d_transpose_2[0][0]',     \n",
      "                                6)                                'conv2d_3[0][0]']               \n",
      "                                                                                                  \n",
      " conv2d_14 (Conv2D)             (None, 256, 256, 12  295040      ['concatenate_2[0][0]']          \n",
      "                                8)                                                                \n",
      "                                                                                                  \n",
      " conv2d_15 (Conv2D)             (None, 256, 256, 12  147584      ['conv2d_14[0][0]']              \n",
      "                                8)                                                                \n",
      "                                                                                                  \n",
      " conv2d_transpose_3 (Conv2DTran  (None, 512, 512, 64  73792      ['conv2d_15[0][0]']              \n",
      " spose)                         )                                                                 \n",
      "                                                                                                  \n",
      " concatenate_3 (Concatenate)    (None, 512, 512, 12  0           ['conv2d_transpose_3[0][0]',     \n",
      "                                8)                                'conv2d_1[0][0]']               \n",
      "                                                                                                  \n",
      " conv2d_16 (Conv2D)             (None, 512, 512, 64  73792       ['concatenate_3[0][0]']          \n",
      "                                )                                                                 \n",
      "                                                                                                  \n",
      " conv2d_17 (Conv2D)             (None, 512, 512, 64  36928       ['conv2d_16[0][0]']              \n",
      "                                )                                                                 \n",
      "                                                                                                  \n",
      " conv2d_18 (Conv2D)             (None, 512, 512, 3)  195         ['conv2d_17[0][0]']              \n",
      "                                                                                                  \n",
      "==================================================================================================\n",
      "Total params: 34,513,475\n",
      "Trainable params: 34,513,475\n",
      "Non-trainable params: 0\n",
      "__________________________________________________________________________________________________\n"
     ]
    }
   ],
   "source": [
    "model_instance = constructModel()\n",
    "model_instance.summary()"
   ]
  },
  {
   "cell_type": "code",
   "execution_count": null,
   "metadata": {
    "id": "DLoTQScKX4u_"
   },
   "outputs": [],
   "source": [
    "image_path = '/content/drive/MyDrive/source'\n",
    "models_path = '/content/drive/MyDrive/models/'"
   ]
  },
  {
   "cell_type": "code",
   "execution_count": null,
   "metadata": {
    "colab": {
     "base_uri": "https://localhost:8080/"
    },
    "id": "MUUhfYyC77WI",
    "outputId": "4c3fcddf-371e-4715-d7c0-d0aab9f7f60f"
   },
   "outputs": [],
   "source": [
    "import itertools\n",
    "import tensorflow as tf\n",
    "from speedup import generate_out_images\n",
    "import numpy as np\n",
    "from random import randint, uniform\n",
    "import imageio\n",
    "import time\n",
    "\n",
    "\n",
    "source_num = 2999\n",
    "dim = 512\n",
    "stationary_defocus = 0.05\n",
    "\n",
    "\n",
    "def gen():\n",
    "    while True:\n",
    "        layer1_number = randint(0, source_num)\n",
    "        layer2_number = randint(0, source_num)\n",
    "        layer3_number = randint(0, source_num)\n",
    "\n",
    "        src1 = imageio.imread(image_path + '/src_' + str(layer1_number).zfill(4) + '.png')\n",
    "        src2 = imageio.imread(image_path + '/src_' + str(layer2_number).zfill(4) + '.png')\n",
    "        src3 = imageio.imread(image_path + '/src_' + str(layer3_number).zfill(4) + '.png')\n",
    "        src = np.zeros((dim, dim, m), np.double)\n",
    "        src[:, :, 0] = src1[:, :, 0]\n",
    "        src[:, :, 1] = src2[:, :, 0]\n",
    "        src[:, :, 2] = src3[:, :, 0]\n",
    "        src = src / np.amax(src)\n",
    "\n",
    "        w_rand = uniform(min_w, max_w)\n",
    "\n",
    "        out = generate_out_images(dim, m, w_rand, stationary_defocus, src)[1]\n",
    "\n",
    "        out = out / np.amax(out)\n",
    "\n",
    "        yield (out, src)\n",
    "\n",
    "\n",
    "tr_dataset = tf.data.Dataset.from_generator(\n",
    "     gen, (tf.float64, tf.float64), (tf.TensorShape([dim, dim, m]), tf.TensorShape([dim, dim, m])))\\\n",
    "    .batch(batch_size=2).prefetch(buffer_size=8)\n",
    "\n",
    "val_dataset = tf.data.Dataset.from_generator(\n",
    "     gen, (tf.float64, tf.float64), (tf.TensorShape([dim, dim, m]), tf.TensorShape([dim, dim, m])))\\\n",
    "    .take(count=128).cache().batch(batch_size=2)\n",
    "\n",
    "\n",
    "opt = tf.keras.optimizers.Adam(learning_rate=1e-5)\n",
    "\n",
    "save_best_callback = tf.keras.callbacks.ModelCheckpoint(models_path + 'bestmodel_unet.hdf5',\n",
    "                                                        save_weights_only=True,save_best_only=True, verbose=True)\n",
    "csv_logger_callback = tf.keras.callbacks.CSVLogger(models_path + 'log_unet.csv')\n",
    "lr_reduce_callback = tf.keras.callbacks.ReduceLROnPlateau(factor=0.5, min_delta=5e-4, patience=5)\n",
    "early_stop_callback = tf.keras.callbacks.EarlyStopping(patience=25)\n",
    "\n",
    "model_instance = constructModel()\n",
    "model_instance.compile(loss='mse', optimizer=opt, metrics=['mae', \"mse\"])\n",
    "model_instance.fit(x=tr_dataset, validation_data=val_dataset, verbose=1, validation_steps=64,\n",
    "                   steps_per_epoch=256, epochs=100,\n",
    "                   callbacks=[save_best_callback, csv_logger_callback, lr_reduce_callback, early_stop_callback])"
   ]
  }
 ],
 "metadata": {
  "accelerator": "GPU",
  "colab": {
   "collapsed_sections": [],
   "name": "U_Net_v1.ipynb",
   "provenance": []
  },
  "kernelspec": {
   "display_name": "Python 3 (ipykernel)",
   "language": "python",
   "name": "python3"
  },
  "language_info": {
   "codemirror_mode": {
    "name": "ipython",
    "version": 3
   },
   "file_extension": ".py",
   "mimetype": "text/x-python",
   "name": "python",
   "nbconvert_exporter": "python",
   "pygments_lexer": "ipython3",
   "version": "3.7.4"
  }
 },
 "nbformat": 4,
 "nbformat_minor": 1
}
