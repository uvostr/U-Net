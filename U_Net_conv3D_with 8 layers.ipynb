{
 "cells": [
  {
   "cell_type": "code",
   "execution_count": 3,
   "metadata": {
    "id": "pdmvAWou5asD"
   },
   "outputs": [],
   "source": [
    "import speedup\n",
    "import tensorflow as tf\n",
    "import numpy as np\n",
    "import tensorflow as tf\n",
    "import random\n",
    "random.seed(0)\n",
    "np.random.seed(0)\n",
    "tf.random.set_seed(0)"
   ]
  },
  {
   "cell_type": "code",
   "execution_count": 4,
   "metadata": {
    "id": "cBwqhTuHTY4v"
   },
   "outputs": [],
   "source": [
    "def double_conv_block(x, n_filters):\n",
    "   x = tf.keras.layers.Conv3D(n_filters, (3, 3, 3), activation = \"relu\", kernel_initializer = \"he_normal\", padding=\"same\")(x)\n",
    "   x = tf.keras.layers.Conv3D(n_filters, (3, 3, 3), activation = \"relu\", kernel_initializer = \"he_normal\", padding=\"same\")(x)\n",
    "   return x"
   ]
  },
  {
   "cell_type": "code",
   "execution_count": 5,
   "metadata": {
    "id": "xF3OppL0UcFp"
   },
   "outputs": [],
   "source": [
    "def downsample_block(x, n_filters):\n",
    "   f = double_conv_block(x, n_filters)\n",
    "   p = tf.keras.layers.MaxPool3D((2, 2, 2))(f)\n",
    "   return f, p"
   ]
  },
  {
   "cell_type": "code",
   "execution_count": 6,
   "metadata": {
    "id": "BN_5xuYkUm2E"
   },
   "outputs": [],
   "source": [
    "def upsample_block(x, conv_features, n_filters):\n",
    "   x = tf.keras.layers.Conv3DTranspose(n_filters, (3, 3, 3), (2, 2, 2), padding=\"same\")(x)\n",
    "   x = tf.keras.layers.Concatenate(axis=-1)([x, conv_features])\n",
    "   x = double_conv_block(x, n_filters)\n",
    "   return x"
   ]
  },
  {
   "cell_type": "code",
   "execution_count": 7,
   "metadata": {
    "id": "hsdTDbG5ogi1"
   },
   "outputs": [],
   "source": [
    "imageSize = 512\n",
    "m = 8\n",
    "min_w = 0.1\n",
    "max_w = 0.5\n",
    "\n",
    "def constructModel():\n",
    "    inputs = tf.keras.Input(shape=(imageSize, imageSize, m, 1))\n",
    "    f1, p1 = downsample_block(inputs, 64)\n",
    "    f2, p2 = downsample_block(p1, 128)\n",
    "    f3, p3 = downsample_block(p2, 256)\n",
    "    \n",
    "\n",
    "    bottleneck = double_conv_block(p3, 512)\n",
    "\n",
    "    u6 = upsample_block(bottleneck, f3, 256)\n",
    "    u7 = upsample_block(u6, f2, 128)\n",
    "    u8 = upsample_block(u7, f1, 64)\n",
    "    pre_outputs = tf.keras.layers.Conv3D(1, (1, 1, 1), activation = \"sigmoid\", padding=\"same\")(u8)\n",
    "    outputs = tf.keras.layers.Lambda(lambda x: tf.concat([x[:, :, :, 0, :], x[:, :, :, 7, :]], 3))(pre_outputs)\n",
    "\n",
    "    return tf.keras.Model(inputs, outputs, name=\"U-Net\")"
   ]
  },
  {
   "cell_type": "code",
   "execution_count": 30,
   "metadata": {
    "colab": {
     "base_uri": "https://localhost:8080/"
    },
    "id": "60YjGqDZX_Rq",
    "outputId": "a01048b6-7b22-49c7-d842-8aabb9673a87"
   },
   "outputs": [
    {
     "name": "stdout",
     "output_type": "stream",
     "text": [
      "Model: \"U-Net\"\n",
      "__________________________________________________________________________________________________\n",
      " Layer (type)                   Output Shape         Param #     Connected to                     \n",
      "==================================================================================================\n",
      " input_2 (InputLayer)           [(None, 512, 512, 8  0           []                               \n",
      "                                , 1)]                                                             \n",
      "                                                                                                  \n",
      " conv3d_15 (Conv3D)             (None, 512, 512, 8,  1792        ['input_2[0][0]']                \n",
      "                                 64)                                                              \n",
      "                                                                                                  \n",
      " conv3d_16 (Conv3D)             (None, 512, 512, 8,  110656      ['conv3d_15[0][0]']              \n",
      "                                 64)                                                              \n",
      "                                                                                                  \n",
      " max_pooling3d_3 (MaxPooling3D)  (None, 256, 256, 4,  0          ['conv3d_16[0][0]']              \n",
      "                                 64)                                                              \n",
      "                                                                                                  \n",
      " conv3d_17 (Conv3D)             (None, 256, 256, 4,  221312      ['max_pooling3d_3[0][0]']        \n",
      "                                 128)                                                             \n",
      "                                                                                                  \n",
      " conv3d_18 (Conv3D)             (None, 256, 256, 4,  442496      ['conv3d_17[0][0]']              \n",
      "                                 128)                                                             \n",
      "                                                                                                  \n",
      " max_pooling3d_4 (MaxPooling3D)  (None, 128, 128, 2,  0          ['conv3d_18[0][0]']              \n",
      "                                 128)                                                             \n",
      "                                                                                                  \n",
      " conv3d_19 (Conv3D)             (None, 128, 128, 2,  884992      ['max_pooling3d_4[0][0]']        \n",
      "                                 256)                                                             \n",
      "                                                                                                  \n",
      " conv3d_20 (Conv3D)             (None, 128, 128, 2,  1769728     ['conv3d_19[0][0]']              \n",
      "                                 256)                                                             \n",
      "                                                                                                  \n",
      " max_pooling3d_5 (MaxPooling3D)  (None, 64, 64, 1, 2  0          ['conv3d_20[0][0]']              \n",
      "                                56)                                                               \n",
      "                                                                                                  \n",
      " conv3d_21 (Conv3D)             (None, 64, 64, 1, 5  3539456     ['max_pooling3d_5[0][0]']        \n",
      "                                12)                                                               \n",
      "                                                                                                  \n",
      " conv3d_22 (Conv3D)             (None, 64, 64, 1, 5  7078400     ['conv3d_21[0][0]']              \n",
      "                                12)                                                               \n",
      "                                                                                                  \n",
      " conv3d_transpose_3 (Conv3DTran  (None, 128, 128, 2,  3539200    ['conv3d_22[0][0]']              \n",
      " spose)                          256)                                                             \n",
      "                                                                                                  \n",
      " concatenate_3 (Concatenate)    (None, 128, 128, 2,  0           ['conv3d_transpose_3[0][0]',     \n",
      "                                 512)                             'conv3d_20[0][0]']              \n",
      "                                                                                                  \n",
      " conv3d_23 (Conv3D)             (None, 128, 128, 2,  3539200     ['concatenate_3[0][0]']          \n",
      "                                 256)                                                             \n",
      "                                                                                                  \n",
      " conv3d_24 (Conv3D)             (None, 128, 128, 2,  1769728     ['conv3d_23[0][0]']              \n",
      "                                 256)                                                             \n",
      "                                                                                                  \n",
      " conv3d_transpose_4 (Conv3DTran  (None, 256, 256, 4,  884864     ['conv3d_24[0][0]']              \n",
      " spose)                          128)                                                             \n",
      "                                                                                                  \n",
      " concatenate_4 (Concatenate)    (None, 256, 256, 4,  0           ['conv3d_transpose_4[0][0]',     \n",
      "                                 256)                             'conv3d_18[0][0]']              \n",
      "                                                                                                  \n",
      " conv3d_25 (Conv3D)             (None, 256, 256, 4,  884864      ['concatenate_4[0][0]']          \n",
      "                                 128)                                                             \n",
      "                                                                                                  \n",
      " conv3d_26 (Conv3D)             (None, 256, 256, 4,  442496      ['conv3d_25[0][0]']              \n",
      "                                 128)                                                             \n",
      "                                                                                                  \n",
      " conv3d_transpose_5 (Conv3DTran  (None, 512, 512, 8,  221248     ['conv3d_26[0][0]']              \n",
      " spose)                          64)                                                              \n",
      "                                                                                                  \n",
      " concatenate_5 (Concatenate)    (None, 512, 512, 8,  0           ['conv3d_transpose_5[0][0]',     \n",
      "                                 128)                             'conv3d_16[0][0]']              \n",
      "                                                                                                  \n",
      " conv3d_27 (Conv3D)             (None, 512, 512, 8,  221248      ['concatenate_5[0][0]']          \n",
      "                                 64)                                                              \n",
      "                                                                                                  \n",
      " conv3d_28 (Conv3D)             (None, 512, 512, 8,  110656      ['conv3d_27[0][0]']              \n",
      "                                 64)                                                              \n",
      "                                                                                                  \n",
      " conv3d_29 (Conv3D)             (None, 512, 512, 8,  65          ['conv3d_28[0][0]']              \n",
      "                                 1)                                                               \n",
      "                                                                                                  \n",
      " lambda_1 (Lambda)              (None, 512, 512, 2)  0           ['conv3d_29[0][0]']              \n",
      "                                                                                                  \n",
      "==================================================================================================\n",
      "Total params: 25,662,401\n",
      "Trainable params: 25,662,401\n",
      "Non-trainable params: 0\n",
      "__________________________________________________________________________________________________\n"
     ]
    }
   ],
   "source": [
    "model_instance = constructModel()\n",
    "model_instance.summary()"
   ]
  },
  {
   "cell_type": "code",
   "execution_count": 10,
   "metadata": {
    "id": "DLoTQScKX4u_"
   },
   "outputs": [],
   "source": [
    "image_path = '/content/drive/MyDrive/source'\n",
    "models_path = '/content/drive/MyDrive/models/'"
   ]
  },
  {
   "cell_type": "code",
   "execution_count": null,
   "metadata": {
    "colab": {
     "base_uri": "https://localhost:8080/",
     "height": 1000
    },
    "id": "MUUhfYyC77WI",
    "outputId": "4494e7a1-31ec-4aff-9d85-c2ec5df98328"
   },
   "outputs": [],
   "source": [
    "import itertools\n",
    "import tensorflow as tf\n",
    "from speedup import generate_out_images\n",
    "import numpy as np\n",
    "from random import randint, uniform\n",
    "import imageio\n",
    "import time\n",
    "\n",
    "source_num = 2999\n",
    "dim = 512\n",
    "stationary_defocus = 0.05\n",
    "\n",
    "def gen():\n",
    "    while True:\n",
    "        layer1_number = randint(0, source_num)\n",
    "        layer2_number = randint(0, source_num)\n",
    "\n",
    "        src1 = imageio.imread(image_path + '/src_' + str(layer1_number).zfill(4) + '.png')\n",
    "        src2 = imageio.imread(image_path + '/src_' + str(layer2_number).zfill(4) + '.png')\n",
    "\n",
    "        src = np.zeros((dim, dim, m), np.double)\n",
    "\n",
    "        src[:, :, 0] = src1[:, :, 0]\n",
    "        src[:, :, 7] = src2[:, :, 0]\n",
    "        \n",
    "        src = src / np.amax(src)\n",
    "\n",
    "        w_rand = uniform(min_w, max_w)\n",
    "\n",
    "        out = generate_out_images(dim, m, w_rand, stationary_defocus, src)[1]\n",
    "\n",
    "        out = out / np.amax(out)\n",
    "\n",
    "\n",
    "        src_ext = np.zeros((dim, dim, 2), np.double)\n",
    "        src_ext[:, :, 0] = src[:, :, 0]\n",
    "        src_ext[:, :, 1] = src[:, :, 7]\n",
    "\n",
    "        out_ext = np.zeros((dim, dim, m, 1), np.double)\n",
    "        out_ext[:, :, :, 0] = out\n",
    "\n",
    "        yield (out_ext, src_ext)\n",
    "\n",
    "\n",
    "tr_dataset = tf.data.Dataset.from_generator(\n",
    "     gen, (tf.float64, tf.float64), (tf.TensorShape([dim, dim, m, 1]), tf.TensorShape([dim, dim, 2])))\\\n",
    "    .batch(batch_size=1).prefetch(buffer_size=8)\n",
    "\n",
    "val_dataset = tf.data.Dataset.from_generator(\n",
    "     gen, (tf.float64, tf.float64), (tf.TensorShape([dim, dim, m, 1]), tf.TensorShape([dim, dim, 2])))\\\n",
    "    .take(count=64).cache().batch(batch_size=1)\n",
    "\n",
    "\n",
    "opt = tf.keras.optimizers.Adam(learning_rate=1e-5)\n",
    "\n",
    "save_best_callback = tf.keras.callbacks.ModelCheckpoint(models_path + 'bestmodel_unet4.hdf5',\n",
    "                                                        save_weights_only=True,save_best_only=True, verbose=True)\n",
    "csv_logger_callback = tf.keras.callbacks.CSVLogger(models_path + 'log_unet4.csv')\n",
    "lr_reduce_callback = tf.keras.callbacks.ReduceLROnPlateau(factor=0.5, min_delta=5e-4, patience=5)\n",
    "early_stop_callback = tf.keras.callbacks.EarlyStopping(patience=25)\n",
    "\n",
    "model_instance = constructModel()\n",
    "model_instance.compile(loss='mse', optimizer=opt, metrics=['mae', \"mse\"])\n",
    "model_instance.fit(x=tr_dataset, validation_data=val_dataset, verbose=1, validation_steps=32,\n",
    "                   steps_per_epoch=128, epochs=100,\n",
    "                   callbacks=[save_best_callback, csv_logger_callback, lr_reduce_callback, early_stop_callback])"
   ]
  },
  {
   "cell_type": "code",
   "execution_count": null,
   "metadata": {
    "id": "e3jNMVZqz200"
   },
   "outputs": [],
   "source": []
  }
 ],
 "metadata": {
  "accelerator": "GPU",
  "colab": {
   "collapsed_sections": [],
   "name": "U_Net_v4.ipynb",
   "provenance": []
  },
  "kernelspec": {
   "display_name": "Python 3 (ipykernel)",
   "language": "python",
   "name": "python3"
  },
  "language_info": {
   "codemirror_mode": {
    "name": "ipython",
    "version": 3
   },
   "file_extension": ".py",
   "mimetype": "text/x-python",
   "name": "python",
   "nbconvert_exporter": "python",
   "pygments_lexer": "ipython3",
   "version": "3.8.13"
  }
 },
 "nbformat": 4,
 "nbformat_minor": 1
}
