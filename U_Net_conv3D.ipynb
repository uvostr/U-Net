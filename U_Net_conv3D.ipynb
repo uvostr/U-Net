{
 "cells": [
  {
   "cell_type": "code",
   "execution_count": null,
   "metadata": {
    "id": "pdmvAWou5asD"
   },
   "outputs": [],
   "source": [
    "import speedup\n",
    "import tensorflow as tf\n",
    "import numpy as np\n",
    "import tensorflow as tf\n",
    "import random\n",
    "random.seed(0)\n",
    "np.random.seed(0)\n",
    "tf.random.set_seed(0)"
   ]
  },
  {
   "cell_type": "code",
   "execution_count": null,
   "metadata": {
    "id": "cBwqhTuHTY4v"
   },
   "outputs": [],
   "source": [
    "def double_conv_block(x, n_filters):\n",
    "   x = tf.keras.layers.Conv3D(n_filters, (3, 3, 3), activation = \"relu\", padding=\"same\")(x)\n",
    "   x = tf.keras.layers.Conv3D(n_filters, (3, 3, 3), activation = \"relu\", padding=\"same\")(x)\n",
    "   return x"
   ]
  },
  {
   "cell_type": "code",
   "execution_count": null,
   "metadata": {
    "id": "xF3OppL0UcFp"
   },
   "outputs": [],
   "source": [
    "def downsample_block(x, n_filters):\n",
    "   f = double_conv_block(x, n_filters)\n",
    "   p = tf.keras.layers.MaxPool3D((2, 2, 1))(f)\n",
    "   return f, p"
   ]
  },
  {
   "cell_type": "code",
   "execution_count": null,
   "metadata": {
    "id": "BN_5xuYkUm2E"
   },
   "outputs": [],
   "source": [
    "def upsample_block(x, conv_features, n_filters):\n",
    "   x = tf.keras.layers.Conv3DTranspose(n_filters, (3, 3, 3), (2, 2, 1), padding=\"same\")(x)\n",
    "   x = tf.keras.layers.concatenate([x, conv_features])\n",
    "   x = double_conv_block(x, n_filters)\n",
    "   return x"
   ]
  },
  {
   "cell_type": "code",
   "execution_count": null,
   "metadata": {
    "id": "hsdTDbG5ogi1"
   },
   "outputs": [],
   "source": [
    "imageSize = 512\n",
    "m = 3\n",
    "min_w = 0.1\n",
    "max_w = 0.5\n",
    "\n",
    "def constructModel():\n",
    "    inputs = tf.keras.Input(shape=(imageSize, imageSize, m, 1))\n",
    "    f1, p1 = downsample_block(inputs, 64)\n",
    "    f2, p2 = downsample_block(p1, 128)\n",
    "    f3, p3 = downsample_block(p2, 256)\n",
    "    f4, p4 = downsample_block(p3, 512)\n",
    "    \n",
    "\n",
    "    bottleneck = double_conv_block(p4, 1024)\n",
    "\n",
    "    u6 = upsample_block(bottleneck, f4, 512)\n",
    "    u7 = upsample_block(u6, f3, 256)\n",
    "    u8 = upsample_block(u7, f2, 128)\n",
    "    u9 = upsample_block(u8, f1, 64)\n",
    "    outputs = tf.keras.layers.Conv3D(1, (1, 1, 1), activation = \"sigmoid\", padding=\"same\")(u9)\n",
    "\n",
    "    return tf.keras.Model(inputs, outputs, name=\"U-Net\")"
   ]
  },
  {
   "cell_type": "code",
   "execution_count": null,
   "metadata": {
    "colab": {
     "base_uri": "https://localhost:8080/"
    },
    "id": "60YjGqDZX_Rq",
    "outputId": "230df414-0cb6-482e-c5ad-78f6a11441a6"
   },
   "outputs": [
    {
     "name": "stdout",
     "output_type": "stream",
     "text": [
      "Model: \"U-Net\"\n",
      "__________________________________________________________________________________________________\n",
      " Layer (type)                   Output Shape         Param #     Connected to                     \n",
      "==================================================================================================\n",
      " input_1 (InputLayer)           [(None, 512, 512, 3  0           []                               \n",
      "                                , 1)]                                                             \n",
      "                                                                                                  \n",
      " conv3d (Conv3D)                (None, 512, 512, 3,  1792        ['input_1[0][0]']                \n",
      "                                 64)                                                              \n",
      "                                                                                                  \n",
      " conv3d_1 (Conv3D)              (None, 512, 512, 3,  110656      ['conv3d[0][0]']                 \n",
      "                                 64)                                                              \n",
      "                                                                                                  \n",
      " max_pooling3d (MaxPooling3D)   (None, 256, 256, 3,  0           ['conv3d_1[0][0]']               \n",
      "                                 64)                                                              \n",
      "                                                                                                  \n",
      " conv3d_2 (Conv3D)              (None, 256, 256, 3,  221312      ['max_pooling3d[0][0]']          \n",
      "                                 128)                                                             \n",
      "                                                                                                  \n",
      " conv3d_3 (Conv3D)              (None, 256, 256, 3,  442496      ['conv3d_2[0][0]']               \n",
      "                                 128)                                                             \n",
      "                                                                                                  \n",
      " max_pooling3d_1 (MaxPooling3D)  (None, 128, 128, 3,  0          ['conv3d_3[0][0]']               \n",
      "                                 128)                                                             \n",
      "                                                                                                  \n",
      " conv3d_4 (Conv3D)              (None, 128, 128, 3,  884992      ['max_pooling3d_1[0][0]']        \n",
      "                                 256)                                                             \n",
      "                                                                                                  \n",
      " conv3d_5 (Conv3D)              (None, 128, 128, 3,  1769728     ['conv3d_4[0][0]']               \n",
      "                                 256)                                                             \n",
      "                                                                                                  \n",
      " max_pooling3d_2 (MaxPooling3D)  (None, 64, 64, 3, 2  0          ['conv3d_5[0][0]']               \n",
      "                                56)                                                               \n",
      "                                                                                                  \n",
      " conv3d_6 (Conv3D)              (None, 64, 64, 3, 5  3539456     ['max_pooling3d_2[0][0]']        \n",
      "                                12)                                                               \n",
      "                                                                                                  \n",
      " conv3d_7 (Conv3D)              (None, 64, 64, 3, 5  7078400     ['conv3d_6[0][0]']               \n",
      "                                12)                                                               \n",
      "                                                                                                  \n",
      " max_pooling3d_3 (MaxPooling3D)  (None, 32, 32, 3, 5  0          ['conv3d_7[0][0]']               \n",
      "                                12)                                                               \n",
      "                                                                                                  \n",
      " conv3d_8 (Conv3D)              (None, 32, 32, 3, 1  14156800    ['max_pooling3d_3[0][0]']        \n",
      "                                024)                                                              \n",
      "                                                                                                  \n",
      " conv3d_9 (Conv3D)              (None, 32, 32, 3, 1  28312576    ['conv3d_8[0][0]']               \n",
      "                                024)                                                              \n",
      "                                                                                                  \n",
      " conv3d_transpose (Conv3DTransp  (None, 64, 64, 3, 5  14156288   ['conv3d_9[0][0]']               \n",
      " ose)                           12)                                                               \n",
      "                                                                                                  \n",
      " concatenate (Concatenate)      (None, 64, 64, 3, 1  0           ['conv3d_transpose[0][0]',       \n",
      "                                024)                              'conv3d_7[0][0]']               \n",
      "                                                                                                  \n",
      " conv3d_10 (Conv3D)             (None, 64, 64, 3, 5  14156288    ['concatenate[0][0]']            \n",
      "                                12)                                                               \n",
      "                                                                                                  \n",
      " conv3d_11 (Conv3D)             (None, 64, 64, 3, 5  7078400     ['conv3d_10[0][0]']              \n",
      "                                12)                                                               \n",
      "                                                                                                  \n",
      " conv3d_transpose_1 (Conv3DTran  (None, 128, 128, 3,  3539200    ['conv3d_11[0][0]']              \n",
      " spose)                          256)                                                             \n",
      "                                                                                                  \n",
      " concatenate_1 (Concatenate)    (None, 128, 128, 3,  0           ['conv3d_transpose_1[0][0]',     \n",
      "                                 512)                             'conv3d_5[0][0]']               \n",
      "                                                                                                  \n",
      " conv3d_12 (Conv3D)             (None, 128, 128, 3,  3539200     ['concatenate_1[0][0]']          \n",
      "                                 256)                                                             \n",
      "                                                                                                  \n",
      " conv3d_13 (Conv3D)             (None, 128, 128, 3,  1769728     ['conv3d_12[0][0]']              \n",
      "                                 256)                                                             \n",
      "                                                                                                  \n",
      " conv3d_transpose_2 (Conv3DTran  (None, 256, 256, 3,  884864     ['conv3d_13[0][0]']              \n",
      " spose)                          128)                                                             \n",
      "                                                                                                  \n",
      " concatenate_2 (Concatenate)    (None, 256, 256, 3,  0           ['conv3d_transpose_2[0][0]',     \n",
      "                                 256)                             'conv3d_3[0][0]']               \n",
      "                                                                                                  \n",
      " conv3d_14 (Conv3D)             (None, 256, 256, 3,  884864      ['concatenate_2[0][0]']          \n",
      "                                 128)                                                             \n",
      "                                                                                                  \n",
      " conv3d_15 (Conv3D)             (None, 256, 256, 3,  442496      ['conv3d_14[0][0]']              \n",
      "                                 128)                                                             \n",
      "                                                                                                  \n",
      " conv3d_transpose_3 (Conv3DTran  (None, 512, 512, 3,  221248     ['conv3d_15[0][0]']              \n",
      " spose)                          64)                                                              \n",
      "                                                                                                  \n",
      " concatenate_3 (Concatenate)    (None, 512, 512, 3,  0           ['conv3d_transpose_3[0][0]',     \n",
      "                                 128)                             'conv3d_1[0][0]']               \n",
      "                                                                                                  \n",
      " conv3d_16 (Conv3D)             (None, 512, 512, 3,  221248      ['concatenate_3[0][0]']          \n",
      "                                 64)                                                              \n",
      "                                                                                                  \n",
      " conv3d_17 (Conv3D)             (None, 512, 512, 3,  110656      ['conv3d_16[0][0]']              \n",
      "                                 64)                                                              \n",
      "                                                                                                  \n",
      " conv3d_18 (Conv3D)             (None, 512, 512, 3,  65          ['conv3d_17[0][0]']              \n",
      "                                 1)                                                               \n",
      "                                                                                                  \n",
      "==================================================================================================\n",
      "Total params: 103,522,753\n",
      "Trainable params: 103,522,753\n",
      "Non-trainable params: 0\n",
      "__________________________________________________________________________________________________\n"
     ]
    }
   ],
   "source": [
    "model_instance = constructModel()\n",
    "model_instance.summary()"
   ]
  },
  {
   "cell_type": "code",
   "execution_count": null,
   "metadata": {
    "id": "DLoTQScKX4u_"
   },
   "outputs": [],
   "source": [
    "image_path = '/content/drive/MyDrive/source'\n",
    "models_path = '/content/drive/MyDrive/models/'"
   ]
  },
  {
   "cell_type": "code",
   "execution_count": null,
   "metadata": {
    "colab": {
     "base_uri": "https://localhost:8080/"
    },
    "id": "MUUhfYyC77WI",
    "outputId": "67370db2-3c4e-4c99-f86c-e81c99fd8e7d"
   },
   "outputs": [],
   "source": [
    "import itertools\n",
    "import tensorflow as tf\n",
    "from speedup import generate_out_images\n",
    "import numpy as np\n",
    "from random import randint, uniform\n",
    "import imageio\n",
    "import time\n",
    "\n",
    "\n",
    "source_num = 2999\n",
    "dim = 512\n",
    "stationary_defocus = 0.05\n",
    "\n",
    "\n",
    "def gen():\n",
    "    while True:\n",
    "        layer1_number = randint(0, source_num)\n",
    "        layer2_number = randint(0, source_num)\n",
    "        layer3_number = randint(0, source_num)\n",
    "\n",
    "        src1 = imageio.imread(image_path + '/src_' + str(layer1_number).zfill(4) + '.png')\n",
    "        src2 = imageio.imread(image_path + '/src_' + str(layer2_number).zfill(4) + '.png')\n",
    "        src3 = imageio.imread(image_path + '/src_' + str(layer3_number).zfill(4) + '.png')\n",
    "        src = np.zeros((dim, dim, m), np.double)\n",
    "        src[:, :, 0] = src1[:, :, 0]\n",
    "        src[:, :, 1] = src2[:, :, 0]\n",
    "        src[:, :, 2] = src3[:, :, 0]\n",
    "        src = src / np.amax(src)\n",
    "\n",
    "        w_rand = uniform(min_w, max_w)\n",
    "\n",
    "        out = generate_out_images(dim, m, w_rand, stationary_defocus, src)[1]\n",
    "\n",
    "        out = out / np.amax(out)\n",
    "\n",
    "\n",
    "        src2 = np.zeros((dim, dim, m, 1), np.double)\n",
    "        src2[:, :, :, 0] = src\n",
    "\n",
    "        out2 = np.zeros((dim, dim, m, 1), np.double)\n",
    "        out2[:, :, :, 0] = out\n",
    "\n",
    "        yield (out2, src2)\n",
    "\n",
    "\n",
    "tr_dataset = tf.data.Dataset.from_generator(\n",
    "     gen, (tf.float64, tf.float64), (tf.TensorShape([dim, dim, m, 1]), tf.TensorShape([dim, dim, m, 1])))\\\n",
    "    .batch(batch_size=2).prefetch(buffer_size=8)\n",
    "\n",
    "val_dataset = tf.data.Dataset.from_generator(\n",
    "     gen, (tf.float64, tf.float64), (tf.TensorShape([dim, dim, m, 1]), tf.TensorShape([dim, dim, m, 1])))\\\n",
    "    .take(count=128).cache().batch(batch_size=2)\n",
    "\n",
    "\n",
    "opt = tf.keras.optimizers.Adam(learning_rate=1e-5)\n",
    "\n",
    "save_best_callback = tf.keras.callbacks.ModelCheckpoint(models_path + 'bestmodel_unet3.hdf5',\n",
    "                                                        save_weights_only=True,save_best_only=True, verbose=True)\n",
    "csv_logger_callback = tf.keras.callbacks.CSVLogger(models_path + 'log_unet3.csv')\n",
    "lr_reduce_callback = tf.keras.callbacks.ReduceLROnPlateau(factor=0.5, min_delta=5e-4, patience=5)\n",
    "early_stop_callback = tf.keras.callbacks.EarlyStopping(patience=25)\n",
    "\n",
    "model_instance = constructModel()\n",
    "model_instance.compile(loss='mse', optimizer=opt, metrics=['mae', \"mse\"])\n",
    "model_instance.fit(x=tr_dataset, validation_data=val_dataset, verbose=1, validation_steps=64,\n",
    "                   steps_per_epoch=256, epochs=100,\n",
    "                   callbacks=[save_best_callback, csv_logger_callback, lr_reduce_callback, early_stop_callback])"
   ]
  }
 ],
 "metadata": {
  "accelerator": "GPU",
  "colab": {
   "collapsed_sections": [],
   "name": "U_Net_v3.ipynb",
   "provenance": []
  },
  "kernelspec": {
   "display_name": "Python 3 (ipykernel)",
   "language": "python",
   "name": "python3"
  },
  "language_info": {
   "codemirror_mode": {
    "name": "ipython",
    "version": 3
   },
   "file_extension": ".py",
   "mimetype": "text/x-python",
   "name": "python",
   "nbconvert_exporter": "python",
   "pygments_lexer": "ipython3",
   "version": "3.7.4"
  }
 },
 "nbformat": 4,
 "nbformat_minor": 1
}
